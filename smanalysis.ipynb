{
 "cells": [
  {
   "cell_type": "code",
   "execution_count": 19,
   "metadata": {},
   "outputs": [],
   "source": [
    "import os\n",
    "from google.auth.transport.requests import Request\n",
    "from google.oauth2.credentials import Credentials\n",
    "from google_auth_oauthlib.flow import InstalledAppFlow\n",
    "from googleapiclient.discovery import build\n",
    "from googleapiclient.errors import HttpError\n",
    "from textblob import TextBlob"
   ]
  },
  {
   "cell_type": "code",
   "execution_count": 20,
   "metadata": {},
   "outputs": [],
   "source": [
    "SCOPES =[\"https://www.googleapis.com/auth/spreadsheets\"]\n",
    "\n",
    "spreadsheet_id = \"1pq4y1R4ms6oQdkQ9Nb_FJLPWLj9nDC135RKhTdBNdTY\""
   ]
  },
  {
   "cell_type": "code",
   "execution_count": 38,
   "metadata": {},
   "outputs": [
    {
     "name": "stdout",
     "output_type": "stream",
     "text": [
      "Batch update response: {'spreadsheetId': '1pq4y1R4ms6oQdkQ9Nb_FJLPWLj9nDC135RKhTdBNdTY', 'totalUpdatedRows': 53, 'totalUpdatedColumns': 1, 'totalUpdatedCells': 53, 'totalUpdatedSheets': 1, 'responses': [{'spreadsheetId': '1pq4y1R4ms6oQdkQ9Nb_FJLPWLj9nDC135RKhTdBNdTY', 'updatedRange': \"'Form Responses 1'!Q1:Q53\", 'updatedRows': 53, 'updatedColumns': 1, 'updatedCells': 53}]}\n"
     ]
    }
   ],
   "source": [
    "def main():\n",
    "    credentials = None\n",
    "    if os.path.exists(\"token.json\"):\n",
    "        credentials = Credentials.from_authorized_user_file(\"token.json\", SCOPES)\n",
    "    if not credentials or not credentials.valid:\n",
    "        if credentials and credentials.expired and credentials.refresh_token:\n",
    "            credentials.refresh(Request())\n",
    "        else:\n",
    "            flow = InstalledAppFlow.from_client_secrets_file(\"/Users/abhi/Desktop/pyauto/credentials.json\", SCOPES)\n",
    "            credentials = flow.run_local_server(port=0)\n",
    "        with open(\"token.json\", \"w\") as token:\n",
    "            token.write(credentials.to_json())\n",
    "\n",
    "    try:\n",
    "        service = build(\"sheets\", \"v4\", credentials=credentials)\n",
    "        sheets = service.spreadsheets()\n",
    "\n",
    "        from textblob import TextBlob\n",
    "\n",
    "        def analyze_sentiment(feedback):\n",
    "            blob = TextBlob(feedback)\n",
    "            polarity = blob.sentiment.polarity\n",
    "            if polarity > 0:\n",
    "                return \"Positive\"\n",
    "            elif polarity < 0:\n",
    "                return \"Negative\"\n",
    "            else:\n",
    "                return \"Neutral\"\n",
    "        sheet_metadata = sheets.get(spreadsheetId=spreadsheet_id, ranges=[]).execute()\n",
    "        sheet_list = sheet_metadata.get(\"sheets\", [])\n",
    "\n",
    "        for sheet in sheet_list:\n",
    "            sheet_title = sheet.get(\"properties\", {}).get(\"title\", \"Sheet\")\n",
    "            if sheet_title == \"Form Responses 1\":\n",
    "                sheet_id = sheet.get(\"properties\", {}).get(\"sheetId\")\n",
    "                result = sheets.values().get(spreadsheetId=spreadsheet_id, range=f\"{sheet_title}!A1:P\").execute()\n",
    "                values = result.get(\"values\", [])\n",
    "\n",
    "                sentiment_values = []\n",
    "                for row in values:\n",
    "                    if len(row) >= 16:  # Assuming the feedback column is the 16th column\n",
    "                        feedback = row[15]\n",
    "                        sentiment = analyze_sentiment(feedback)\n",
    "                        sentiment_values.append([sentiment])\n",
    "                update_body = {\n",
    "                    \"valueInputOption\": \"USER_ENTERED\",\n",
    "                    \"data\": [{\"range\": f\"{sheet_title}!Q1:Q{len(sentiment_values)}\", \"values\": sentiment_values}]\n",
    "                }\n",
    "                response = sheets.values().batchUpdate(spreadsheetId=spreadsheet_id, body=update_body).execute()\n",
    "                print(f\"Batch update response: {response}\")  #Added print statement for better knowledge of updated batch response\n",
    "\n",
    "    except HttpError as error:\n",
    "        print(error)\n",
    "\n",
    "if __name__ == \"__main__\":\n",
    "    main()"
   ]
  }
 ],
 "metadata": {
  "kernelspec": {
   "display_name": "base",
   "language": "python",
   "name": "python3"
  },
  "language_info": {
   "codemirror_mode": {
    "name": "ipython",
    "version": 3
   },
   "file_extension": ".py",
   "mimetype": "text/x-python",
   "name": "python",
   "nbconvert_exporter": "python",
   "pygments_lexer": "ipython3",
   "version": "3.11.4"
  }
 },
 "nbformat": 4,
 "nbformat_minor": 2
}
